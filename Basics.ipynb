{
 "cells": [
  {
   "cell_type": "code",
   "execution_count": 4,
   "metadata": {
    "collapsed": false
   },
   "outputs": [
    {
     "name": "stdout",
     "output_type": "stream",
     "text": [
      "[['', 'year', 'month', 'intent', 'police', 'sex', 'age', 'race', 'hispanic', 'place', 'education'], ['1', '2012', '01', 'Suicide', '0', 'M', '34', 'Asian/Pacific Islander', '100', 'Home', '4'], ['2', '2012', '01', 'Suicide', '0', 'F', '21', 'White', '100', 'Street', '3'], ['3', '2012', '01', 'Suicide', '0', 'M', '60', 'White', '100', 'Other specified', '4'], ['4', '2012', '02', 'Suicide', '0', 'M', '64', 'White', '100', 'Home', '4']]\n"
     ]
    }
   ],
   "source": [
    "import csv\n",
    "import datetime\n",
    "f = open(\"guns.csv\", \"r\")\n",
    "r = csv.reader(f)\n",
    "data = list(r)\n",
    "\n",
    "print(data[:5])"
   ]
  },
  {
   "cell_type": "code",
   "execution_count": 5,
   "metadata": {
    "collapsed": false
   },
   "outputs": [],
   "source": [
    "headers = data[0]\n",
    "data = data[1:]"
   ]
  },
  {
   "cell_type": "code",
   "execution_count": 6,
   "metadata": {
    "collapsed": false
   },
   "outputs": [
    {
     "name": "stdout",
     "output_type": "stream",
     "text": [
      "{'2012': 33563, '2014': 33599, '2013': 33636}\n"
     ]
    }
   ],
   "source": [
    "years = [year[1] for year in data]\n",
    "year_counts = {}\n",
    "\n",
    "for item in years:\n",
    "    if item in year_counts:\n",
    "        year_counts[item] = year_counts[item] + 1\n",
    "    else:\n",
    "        year_counts[item] = 1\n",
    "        \n",
    "        \n",
    "print(year_counts)"
   ]
  },
  {
   "cell_type": "code",
   "execution_count": 7,
   "metadata": {
    "collapsed": false
   },
   "outputs": [
    {
     "name": "stdout",
     "output_type": "stream",
     "text": [
      "[datetime.datetime(2012, 1, 1, 0, 0), datetime.datetime(2012, 1, 1, 0, 0), datetime.datetime(2012, 1, 1, 0, 0), datetime.datetime(2012, 2, 1, 0, 0), datetime.datetime(2012, 2, 1, 0, 0)]\n"
     ]
    }
   ],
   "source": [
    "dates = []\n",
    "for item in data:\n",
    "    yr = int(float(item[1]))\n",
    "    mn = int(float(item[2]))\n",
    "    date = datetime.datetime(year = yr, month = mn, day = 1)\n",
    "    dates.append(date)\n",
    "    \n",
    "print(dates[:5])"
   ]
  },
  {
   "cell_type": "code",
   "execution_count": 9,
   "metadata": {
    "collapsed": false
   },
   "outputs": [],
   "source": [
    "date_counts = {}\n",
    "for item in dates:\n",
    "    if item in date_counts:\n",
    "        date_counts[item] = date_counts[item] + 1\n",
    "    else:\n",
    "        date_counts[item] = 1\n"
   ]
  },
  {
   "cell_type": "code",
   "execution_count": 10,
   "metadata": {
    "collapsed": false
   },
   "outputs": [
    {
     "name": "stdout",
     "output_type": "stream",
     "text": [
      "{'F': 14449, 'M': 86349}\n"
     ]
    }
   ],
   "source": [
    "sex_counts = {}\n",
    "for item in data:\n",
    "    if item[5] in sex_counts:\n",
    "        sex_counts[item[5]] = sex_counts[item[5]] + 1\n",
    "    else:\n",
    "        sex_counts[item[5]] = 1\n",
    "        \n",
    "print(sex_counts)"
   ]
  },
  {
   "cell_type": "code",
   "execution_count": 11,
   "metadata": {
    "collapsed": false
   },
   "outputs": [
    {
     "name": "stdout",
     "output_type": "stream",
     "text": [
      "{'Hispanic': 9022, 'Asian/Pacific Islander': 1326, 'Native American/Native Alaskan': 917, 'Black': 23296, 'White': 66237}\n"
     ]
    }
   ],
   "source": [
    "race_counts = {}\n",
    "for item in data:\n",
    "    if item[7] in race_counts:\n",
    "        race_counts[item[7]] = race_counts[item[7]] + 1\n",
    "    else:\n",
    "        race_counts[item[7]] = 1\n",
    "    \n",
    "print(race_counts)"
   ]
  },
  {
   "cell_type": "markdown",
   "metadata": {},
   "source": [
    "Significantly more males than females\n",
    "Significantly more whites than all other races combined\n",
    "\n",
    "Ordering date_counts would make it much easier to read and draw conclusions from"
   ]
  },
  {
   "cell_type": "code",
   "execution_count": 18,
   "metadata": {
    "collapsed": false
   },
   "outputs": [
    {
     "name": "stdout",
     "output_type": "stream",
     "text": [
      "[['Id', 'Year', 'Id', 'Sex', 'Id', 'Hispanic Origin', 'Id', 'Id2', 'Geography', 'Total', 'Race Alone - White', 'Race Alone - Hispanic', 'Race Alone - Black or African American', 'Race Alone - American Indian and Alaska Native', 'Race Alone - Asian', 'Race Alone - Native Hawaiian and Other Pacific Islander', 'Two or More Races'], ['cen42010', 'April 1, 2010 Census', 'totsex', 'Both Sexes', 'tothisp', 'Total', '0100000US', '', 'United States', '308745538', '197318956', '44618105', '40250635', '3739506', '15159516', '674625', '6984195']]\n"
     ]
    }
   ],
   "source": [
    "j = open(\"census.csv\", \"r\")\n",
    "k = csv.reader(j)\n",
    "census = list(k)\n",
    "print(census)"
   ]
  },
  {
   "cell_type": "code",
   "execution_count": 24,
   "metadata": {
    "collapsed": false
   },
   "outputs": [],
   "source": [
    "mapping = {\n",
    "    \n",
    "    \"Asian/Pacific Islander\" : census[1][13] + census[1][14],\n",
    "    \"Black\" : census[1][12],\n",
    "    \"Native American/Native Alaskan\" : census[1][15],\n",
    "    \"Hispanic\" : census[1][11],\n",
    "    \"White\" : census[1][10]\n",
    "    \n",
    "}"
   ]
  },
  {
   "cell_type": "code",
   "execution_count": null,
   "metadata": {
    "collapsed": true
   },
   "outputs": [],
   "source": []
  }
 ],
 "metadata": {
  "kernelspec": {
   "display_name": "Python 3",
   "language": "python",
   "name": "python3"
  },
  "language_info": {
   "codemirror_mode": {
    "name": "ipython",
    "version": 3
   },
   "file_extension": ".py",
   "mimetype": "text/x-python",
   "name": "python",
   "nbconvert_exporter": "python",
   "pygments_lexer": "ipython3",
   "version": "3.4.3"
  }
 },
 "nbformat": 4,
 "nbformat_minor": 0
}
